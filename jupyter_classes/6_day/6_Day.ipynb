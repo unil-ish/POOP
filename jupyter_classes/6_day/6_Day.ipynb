{
 "cells": [
  {
   "cell_type": "markdown",
   "source": [
    "# La classe abstraite\n",
    "\n",
    "Les classes abstraites sont des classes qui ne peuvent pas être instanciées, elles contiennent une ou plusieurs méthodes abstraites. C’est un modèle pour d’autres classes qui héritent un ensemble de méthodes et de propriétés.\n",
    "\n",
    "L’abstraction est très utile lors de la conception de systèmes complexes pour limiter la répétition et assurer la cohérence.\n",
    "De plus, les classes abstraites nous donnent est une manière standard de développer\n",
    "le code même si vous avez plusieurs développeurs travaillant sur un projet.\n",
    "Les classes abstraites peuvent fonctionnent comme maquette d'une architecture informatique."
   ],
   "metadata": {
    "collapsed": false
   }
  },
  {
   "cell_type": "code",
   "execution_count": 2,
   "outputs": [],
   "source": [
    "from abc import ABC, abstractmethod\n",
    "\n",
    "class AbcGraph(ABC):\n",
    "\n",
    "    @abstractmethod\n",
    "    def show(self, zones):\n",
    "        pass\n",
    "\n",
    "    def xy_values(self, zones):\n",
    "        raise NotImplementedError\n"
   ],
   "metadata": {
    "collapsed": false
   }
  },
  {
   "cell_type": "markdown",
   "source": [
    "# Héritage\n",
    "\n",
    "Maintenant que nous avons défini un modèle général, nous pouvons générer toute une série de classes à partir de cette matrice comme, par exemple, la classe `BaseGraph`\n",
    "qui a son tour peut être la classe mère d'une notre classe (`AgreeablenessGraph` dans notre exemple).\n"
   ],
   "metadata": {
    "collapsed": false
   }
  },
  {
   "cell_type": "markdown",
   "source": [
    "# La méthode `super()`"
   ],
   "metadata": {
    "collapsed": false
   }
  },
  {
   "cell_type": "markdown",
   "source": [
    "En Python, `super()` est une fonction intégrée qui vous permet d'accéder aux méthodes d'une superclasse à partir d'une sous-classe qui en hérite. Lorsque vous créez une sous-classe, vous pouvez utiliser `super()` pour appeler les méthodes de la superclasse, ce qui vous permet de réutiliser du code et d'étendre la fonctionnalité de la superclasse. La fonction `super()` renvoie un objet temporaire de la superclasse qui vous permet ensuite d'appeler les méthodes de cette superclasse. Cela vous permet d'éviter de réécrire ces méthodes dans votre sous-classe et de remplacer les superclasses avec des changements de code minimes. En utilisant `super()`, vous pouvez créer un code plus maintenable et évolutif dans vos projets Python."
   ],
   "metadata": {
    "collapsed": false
   }
  },
  {
   "cell_type": "markdown",
   "source": [
    "## Exemple"
   ],
   "metadata": {
    "collapsed": false
   }
  },
  {
   "cell_type": "code",
   "execution_count": null,
   "outputs": [],
   "source": [
    "class Rectangle:\n",
    "    def __init__(self, length, width):\n",
    "        self.length = length\n",
    "        self.width = width\n",
    "\n",
    "    def area(self):\n",
    "        return self.length * self.width\n",
    "\n",
    "    def perimeter(self):\n",
    "        return 2 * self.length + 2 * self.width\n",
    "\n",
    "class Square:\n",
    "    def __init__(self, length):\n",
    "        self.length = length\n",
    "\n",
    "    def area(self):\n",
    "        return self.length * self.length\n",
    "\n",
    "    def perimeter(self):\n",
    "        return 4 * self.length"
   ],
   "metadata": {
    "collapsed": false
   }
  },
  {
   "cell_type": "code",
   "execution_count": null,
   "outputs": [],
   "source": [
    "square = Square(4)\n",
    "square.area()\n",
    "\n",
    "rectangle = Rectangle(2,4)\n",
    "rectangle.area()"
   ],
   "metadata": {
    "collapsed": false
   }
  },
  {
   "cell_type": "markdown",
   "source": [
    "Dans cet exemple, vous avez deux formes qui sont liées l'une à l'autre : un carré est un type particulier de rectangle. Le code, cependant, ne reflète pas cette relation et est donc essentiellement répété.\n",
    "\n",
    "En utilisant l'héritage, vous pouvez réduire la quantité de code que vous écrivez tout en reflétant la relation réelle entre les rectangles et les carrés :"
   ],
   "metadata": {
    "collapsed": false
   }
  },
  {
   "cell_type": "code",
   "execution_count": null,
   "outputs": [],
   "source": [
    "class Rectangle:\n",
    "    def __init__(self, length, width):\n",
    "        self.length = length\n",
    "        self.width = width\n",
    "\n",
    "    def area(self):\n",
    "        return self.length * self.width\n",
    "\n",
    "    def perimeter(self):\n",
    "        return 2 * self.length + 2 * self.width\n",
    "\n",
    "# Here we declare that the Square class inherits from the Rectangle class\n",
    "class Square(Rectangle):\n",
    "    def __init__(self, length):\n",
    "        super().__init__(length, length)"
   ],
   "metadata": {
    "collapsed": false
   }
  },
  {
   "cell_type": "markdown",
   "source": [
    "Ici, vous avez utilisé super() pour appeler la fonction __init__() de la classe Rectangle, ce qui vous permet de l'utiliser dans la classe Square sans répéter le code. Ci-dessous, la fonctionnalité de base reste inchangée après les modifications :"
   ],
   "metadata": {
    "collapsed": false
   }
  },
  {
   "cell_type": "code",
   "execution_count": null,
   "outputs": [],
   "source": [
    "square = Square(4)\n",
    "square.area()\n"
   ],
   "metadata": {
    "collapsed": false
   }
  },
  {
   "cell_type": "markdown",
   "source": [
    "Dans cet exemple, Rectangle est la superclasse et Square la sous-classe.\n",
    "\n",
    "Les méthodes .__init__() de Square et de Rectangle étant très similaires, vous pouvez simplement appeler la méthode .__init__() de la superclasse (Rectangle.__init__()) à partir de celle de Square en utilisant super(). Cette méthode définit les attributs .length et .width alors que vous n'aviez qu'à fournir un seul paramètre de longueur au constructeur de Square.\n",
    "\n",
    "Lorsque vous exécutez cette méthode, même si votre classe Square ne l'implémente pas explicitement, l'appel à .area() utilisera la méthode .area() de la superclasse et imprimera 16. La classe Square a hérité de la méthode .area() de la classe Rectangle."
   ],
   "metadata": {
    "collapsed": false
   }
  },
  {
   "cell_type": "markdown",
   "source": [
    "# Que peut faire super() pour vous ?\n",
    "Que peut donc faire la fonction super() dans le cadre de l'héritage simple ?\n",
    "\n",
    "Comme dans d'autres langages orientés objet, elle vous permet d'appeler des méthodes de la superclasse dans votre sous-classe. Le principal cas d'utilisation est l'extension de la fonctionnalité de la méthode héritée.\n",
    "\n",
    "Dans l'exemple ci-dessous, vous allez créer une classe Cube qui hérite de Square et qui étend la fonctionnalité de .area() (héritée de la classe Rectangle via Square) pour calculer la surface et le volume d'une instance de Cube :"
   ],
   "metadata": {
    "collapsed": false
   }
  },
  {
   "cell_type": "code",
   "execution_count": null,
   "outputs": [],
   "source": [
    "class Square(Rectangle):\n",
    "    def __init__(self, length):\n",
    "        super().__init__(length, length)\n",
    "\n",
    "class Cube(Square):\n",
    "    def surface_area(self):\n",
    "        face_area = super().area()\n",
    "        return face_area * 6\n",
    "\n",
    "    def volume(self):\n",
    "        face_area = super().area()\n",
    "        return face_area * self.length"
   ],
   "metadata": {
    "collapsed": false
   }
  },
  {
   "cell_type": "code",
   "execution_count": null,
   "outputs": [],
   "source": [
    "cube = Cube(3)\n",
    "cube.surface_area()\n",
    "\n",
    "cube.volume()"
   ],
   "metadata": {
    "collapsed": false
   }
  },
  {
   "cell_type": "markdown",
   "source": [
    "## Une plongée en profondeur dans super()\n",
    "Avant d'aborder l'héritage multiple, faisons un rapide détour par les mécanismes de super().\n",
    "\n",
    "Alors que les exemples ci-dessus (et ci-dessous) appellent super() sans aucun paramètre, super() peut également prendre deux paramètres : le premier est la sous-classe, et le second est un objet qui est une instance de cette sous-classe.\n",
    "\n",
    "Tout d'abord, voyons deux exemples montrant ce que la manipulation de la première variable peut faire, en utilisant les classes déjà présentées :"
   ],
   "metadata": {
    "collapsed": false
   }
  },
  {
   "cell_type": "code",
   "execution_count": null,
   "outputs": [],
   "source": [
    "class Rectangle:\n",
    "    def __init__(self, length, width):\n",
    "        self.length = length\n",
    "        self.width = width\n",
    "\n",
    "    def area(self):\n",
    "        return self.length * self.width\n",
    "\n",
    "    def perimeter(self):\n",
    "        return 2 * self.length + 2 * self.width\n",
    "\n",
    "class Square(Rectangle):\n",
    "    def __init__(self, length):\n",
    "        super(Square, self).__init__(length, length)"
   ],
   "metadata": {
    "collapsed": false
   }
  },
  {
   "cell_type": "markdown",
   "source": [
    "En Python 3, l'appel super(Square, self) est équivalent à l'appel super() sans paramètre. Le premier paramètre fait référence à la sous-classe Square, tandis que le second paramètre fait référence à un objet Square qui, dans ce cas, est self. Vous pouvez également appeler super() avec d'autres classes :"
   ],
   "metadata": {
    "collapsed": false
   }
  },
  {
   "cell_type": "code",
   "execution_count": null,
   "outputs": [],
   "source": [
    "class Cube(Square):\n",
    "    def surface_area(self):\n",
    "        face_area = super(Square, self).area()\n",
    "        return face_area * 6\n",
    "\n",
    "    def volume(self):\n",
    "        face_area = super(Square, self).area()\n",
    "        return face_area * self.length"
   ],
   "metadata": {
    "collapsed": false
   }
  },
  {
   "cell_type": "markdown",
   "source": [
    "Dans cet exemple, vous définissez Square comme argument de sous-classe à super(), au lieu de Cube. Ainsi, super() commence à rechercher une méthode correspondante (dans ce cas, .area()) à un niveau au-dessus de Square dans la hiérarchie des instances, dans ce cas Rectangle.\n",
    "\n",
    "Dans cet exemple spécifique, le comportement ne change pas. Mais imaginez que Square ait également implémenté une fonction .area() que vous vouliez vous assurer que Cube n'utilise pas. Appeler super() de cette manière vous permet de le faire.\n",
    "\n"
   ],
   "metadata": {
    "collapsed": false
   }
  },
  {
   "cell_type": "markdown",
   "source": [
    "Qu'en est-il du deuxième paramètre ? Rappelez-vous qu'il s'agit d'un objet qui est une instance de la classe utilisée comme premier paramètre. Par exemple, isinstance(Cube, Square) doit renvoyer True.\n",
    "\n",
    "En incluant un objet instancié, super() renvoie une méthode liée : une méthode liée à l'objet, qui donne à la méthode le contexte de l'objet tel que les attributs de l'instance. Si ce paramètre n'est pas inclus, la méthode renvoyée n'est qu'une fonction, non associée au contexte d'un objet.\n",
    "\n",
    "Pour plus d'informations sur les méthodes liées, les méthodes non liées et les fonctions, lisez la documentation de Python sur son système de descripteurs."
   ],
   "metadata": {
    "collapsed": false
   }
  },
  {
   "cell_type": "markdown",
   "source": [],
   "metadata": {
    "collapsed": false
   }
  },
  {
   "cell_type": "code",
   "execution_count": null,
   "outputs": [],
   "source": [
    "#si cela bugge, décommentez ces lignes\n",
    "#import matplotlib as mil\n",
    "#mil.use('TkAgg')\n",
    "import matplotlib.pyplot as plt\n",
    "class BaseGraph(AbcGraph):\n",
    "\n",
    "    def __init__(self):\n",
    "        self.title = \"Your graph title\"\n",
    "        self.x_label = \"X-axis label\"\n",
    "        self.y_label = \"X-axis label\"\n",
    "        self.show_grid = True\n",
    "\n",
    "    def xy_values(self, zones):\n",
    "        self.x_values = [zone.population_density() for zone in zones]\n",
    "        self.y_values = [zone.average_agreeableness() for zone in zones]\n",
    "        return self.x_values, self.y_values\n",
    "\n",
    "    def show(self, zones):\n",
    "        # x_values = gather only x_values from our zones\n",
    "        # y_values = gather only y_values from our zones\n",
    "        plt.plot(self.x_values, self.y_values, '.')\n",
    "        plt.xlabel(self.x_label)\n",
    "        plt.ylabel(self.y_label)\n",
    "        plt.title(self.title)\n",
    "        plt.grid(self.show_grid)\n",
    "        plt.show()\n",
    "\n",
    "\n",
    "class AgreeablenessGraph(BaseGraph):\n",
    "\n",
    "    def __init__(self):\n",
    "        super().__init__()\n",
    "        self.title = \"Nice people live in the countryside\"\n",
    "        self.x_label = \"population density\"\n",
    "        self.y_label = \"agreeableness\"\n",
    "\n"
   ],
   "metadata": {
    "collapsed": false
   }
  }
 ],
 "metadata": {
  "kernelspec": {
   "display_name": "Python 3",
   "language": "python",
   "name": "python3"
  },
  "language_info": {
   "codemirror_mode": {
    "name": "ipython",
    "version": 2
   },
   "file_extension": ".py",
   "mimetype": "text/x-python",
   "name": "python",
   "nbconvert_exporter": "python",
   "pygments_lexer": "ipython2",
   "version": "2.7.6"
  }
 },
 "nbformat": 4,
 "nbformat_minor": 0
}
